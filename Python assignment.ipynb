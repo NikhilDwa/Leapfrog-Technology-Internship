{
 "cells": [
  {
   "cell_type": "markdown",
   "metadata": {},
   "source": [
    "# Question 1: \n",
    "General questions: \n",
    "a. Using Map with lambda function generate a third list with a single map statement that sums the integer elements of the same index of two given lists.\n",
    "\n",
    "lst1=[100, 200, 300, 400, 500] \n",
    "\n",
    "lst2=[1,10,100,1000,10000]\n",
    "\n",
    "Should return with a single statement : [101, 210, 400, 1400, 10500]"
   ]
  },
  {
   "cell_type": "code",
   "execution_count": null,
   "metadata": {},
   "outputs": [],
   "source": [
    "lst1=[100, 200, 300, 400, 500] \n",
    "lst2=[1,10,100,1000,10000]\n",
    "\n",
    "lst = list(map(lambda x, y: x+y, lst1, lst2))\n",
    "\n",
    "print(lst)"
   ]
  },
  {
   "cell_type": "markdown",
   "metadata": {},
   "source": [
    "b. Write a function that takes a string and returns the dictionary with each character as key and its count as value. \n",
    "\n",
    "For example: \n",
    "    \n",
    "**result = myfunc (\"aaaaabbbbcccdde\")**\n",
    "\n",
    "**Should return { ’a’ : 5, ’b’ : 4, ’c’ : 3, ’d’ : 2, ’e’ : 1 }**"
   ]
  },
  {
   "cell_type": "code",
   "execution_count": null,
   "metadata": {},
   "outputs": [],
   "source": [
    "def myfunc(string):\n",
    "    final_dict = {}\n",
    "    for char in string:\n",
    "        if char in final_dict:\n",
    "            final_dict[char] += 1\n",
    "        else:\n",
    "            final_dict[char] = 1\n",
    "    return final_dict\n",
    "\n",
    "string = input(\"Enter the string:\")\n",
    "print(myfunc(string))"
   ]
  },
  {
   "cell_type": "markdown",
   "metadata": {},
   "source": [
    "c. The dictionary  given below consists of vehicles and their weights in kilograms. Construct a list of the names of vehicles with weight below 5000 kilograms. In the same list comprehension makes the key names all uppercase. Use just a single comprehension statement to achieve it.\n",
    "\t\n",
    "**dict={\"Sedan\": 1500, \"SUV\": 2000, \"Pickup\": 2500, \"Minivan\": 1600, \"Van\": 2400, \"Semi\": 13600, \"Bicycle\": 7, \"Motorcycle\": 110}**\n",
    "\n",
    "**Solution should be just a statement with list comprehension like below** \n",
    "\n",
    "**List = [ use comprehension to achieve the result in single statement ]** \n"
   ]
  },
  {
   "cell_type": "code",
   "execution_count": null,
   "metadata": {},
   "outputs": [],
   "source": [
    "dict={\"Sedan\": 1500, \"SUV\": 2000, \"Pickup\": 2500, \"Minivan\": 1600, \"Van\": 2400, \"Semi\": 13600, \"Bicycle\": 7, \"Motorcycle\": 110}\n",
    "\n",
    "LIST = {keys.upper():values for (keys, values) in dict.items() if values < 5000}\n",
    "\n",
    "print(LIST)"
   ]
  },
  {
   "cell_type": "markdown",
   "metadata": {},
   "source": [
    "# Question 2 \n",
    "Create a program to create a following form inputs as CLI inputs \n",
    "\t\n",
    "| Variable | Type   |\n",
    "|:---|:-------------|\n",
    "| Name | String  |\n",
    "| DOB | Date type in format ‘mm/dd/yy’  |\n",
    "| Age | Integer  |\n",
    "| Hobbies | List of stings  |\n",
    "\n",
    "\n",
    "And write to a file as json data. Give a choice to the user to quit the program or repeat the process.\n",
    "Also Validate the data type from the user.\n"
   ]
  },
  {
   "cell_type": "code",
   "execution_count": null,
   "metadata": {},
   "outputs": [],
   "source": [
    "import datetime\n",
    "import json \n",
    "i = \"Y\"\n",
    "while i == \"Y\" or i == \"y\":\n",
    "    Name = input(\"Enter the name:\")\n",
    "    try:\n",
    "        date_input = input(\"Enter the DOB (YYYYMMDD):\")\n",
    "        d = datetime.datetime.strptime(date_input,'%Y%m%d')\n",
    "        DOB= '{:%m-%d-%y}'.format(d)\n",
    "    except:\n",
    "        print('Incorrect DOB format.')\n",
    "        break\n",
    "    Age = int(input(\"Enter the age:\"))\n",
    "    Hobbies_list = input(\"Enter the list of hobbies separated by space:\")\n",
    "    input_list  = Hobbies_list.split()\n",
    "    Hobbies = [i for i in input_list]\n",
    "    if type(Name) is str and type(Age) is int and type(DOB) is str and type(Hobbies) is list:\n",
    "        data_dict = {\"Name\": Name, \"DOB\": DOB, \"Age\": Age, \"Hobbies\":Hobbies}\n",
    "    \n",
    "        with open('data.json', 'a') as f:\n",
    "            json.dump(data_dict, f, indent=2)\n",
    "    else:\n",
    "        print(\"Incorrect data type.\")\n",
    "    i = input(\"Do you want to repeat the process? (Y/N)\")"
   ]
  },
  {
   "cell_type": "markdown",
   "metadata": {},
   "source": [
    "# Question 3: \n",
    "\n",
    "A bracket is considered to be any one of the following characters: \n",
    "**(, ), {, }, [, or ].**\n",
    "\n",
    "Two brackets are considered to be a matched pair if the opening bracket (i.e., (, [, or {) occurs to the left of a closing bracket (i.e., ), ], or }) of the exact same type. There are three types of matched pairs of brackets: **[], {},** and **()**.\n",
    "\n",
    "A matching pair of brackets is not balanced if the set of brackets it encloses are not matched. For example, **{[(])}** is not balanced because the contents in between **{** and **}** are not balanced. The pair of square brackets encloses a single, unbalanced opening bracket, **(**, and the pair of parentheses encloses a single, unbalanced closing square bracket, **]**.\n",
    "\n",
    "By this logic, we say a sequence of brackets is balanced if the following conditions are met:\n",
    "- It contains no unmatched brackets.\n",
    "- The subset of brackets enclosed within the confines of a matched pair of brackets is also a matched pair of brackets.\n",
    "\n",
    "Given a string of brackets as input, determine whether each sequence of brackets is balanced. If a string is balanced, return YES. Otherwise, return NO.\n",
    "\n",
    "**Program Description:**\n",
    "\n",
    "Complete program with the function **isBalanced**.\n",
    "\n",
    "**isBalanced** has the following parameter(s):\n",
    "- string s: a string of brackets [  take it as an input argument from the user from CLI ]\n",
    "\n",
    "**Returns**\n",
    "- string: either YES or NO\n",
    "\n",
    "Example Input: \n",
    "**“{}[]()[(())]” returns YES\n",
    "\"{}(]{\" return NO**\n"
   ]
  },
  {
   "cell_type": "code",
   "execution_count": null,
   "metadata": {},
   "outputs": [],
   "source": [
    "def isBalanced(b):\n",
    "    lst = []\n",
    "    for n in b:\n",
    "        if n == '{' or n == '(' or n == '[':\n",
    "            lst.append(n)\n",
    "        elif n == '}' or n == ')' or n == ']':\n",
    "            if len(lst) == 0:\n",
    "                return \"NO\"\n",
    "            top = lst.pop()     \n",
    "    if len(lst) != 0:\n",
    "        return \"NO\"           \n",
    "    return \"YES\"\n",
    "\n",
    "i = input(\"Enter the sequence of brackets.\")\n",
    "print(isBalanced(i))\n"
   ]
  },
  {
   "cell_type": "markdown",
   "metadata": {},
   "source": [
    "# Question 4\n",
    "\n",
    "A left rotation operation on an integer array shifts each of the array's elements unit to the left. For example, if **2** left rotations are performed on array **[1,2,3,4,5]** , then the array would become **[3,4,5,1,2]**\n",
    "\n",
    "Note that the lowest index item moves to the highest index in a rotation. This is called a circular array.\n",
    "\n",
    "Given an array of integers and a number designating the number of rotations, perform left rotations on the array. Return the updated array to be printed as a single line of space-separated integers.\n",
    "\n",
    "**Program Description**\n",
    "\n",
    "Write a Program i.e. a python script  with the function named **rotateLeft** in the\n",
    "\n",
    "**rotateLeft** has the following parameter(s):\n",
    "- array_list  a list  of integers to rotate\n",
    "- num_rotate the number of rotations to be made\n",
    "\n",
    "Receive these parameters from the command line as input from the user.\n",
    "\n",
    "**Returns**\n",
    "- the rotated array and the number of left rotations.\n"
   ]
  },
  {
   "cell_type": "code",
   "execution_count": null,
   "metadata": {},
   "outputs": [],
   "source": [
    "def rotateLeft(array_list, num_rotate):\n",
    "    final_list = array_list\n",
    "    for c in range(0, num_rotate):\n",
    "        temp = final_list[0]\n",
    "        for i in range(0, len(final_list) - 1):\n",
    "            final_list[i] = final_list [i + 1]\n",
    "        final_list[len(final_list) - 1] = temp\n",
    "    return final_list\n",
    "\n",
    "input_list = input(\"Enter a list element separated by space.\")\n",
    "input_list  = input_list.split()\n",
    "array_list = [int(i) for i in input_list]\n",
    "num_rotate = int(input(\"Enter the number of rotations to be made.\"))\n",
    "\n",
    "print(rotateLeft(array_list, num_rotate))"
   ]
  },
  {
   "cell_type": "markdown",
   "metadata": {},
   "source": [
    "# Python Assignment Part 2"
   ]
  },
  {
   "cell_type": "markdown",
   "metadata": {},
   "source": [
    "1. Create an iterator and generator for square numbers with their use."
   ]
  },
  {
   "cell_type": "markdown",
   "metadata": {},
   "source": [
    "Iterator"
   ]
  },
  {
   "cell_type": "code",
   "execution_count": null,
   "metadata": {},
   "outputs": [],
   "source": [
    "class Square:\n",
    "    def __init__(self, number_of_square):\n",
    "        self.number_of_square = number_of_square\n",
    "        self.integer = 0\n",
    "        \n",
    "    def __iter__(self):\n",
    "        return self\n",
    "    \n",
    "    def __next__(self):\n",
    "        if self.integer >= self.number_of_square:\n",
    "            raise StopIteration\n",
    "        self.integer += 1\n",
    "        return self.integer ** 2\n",
    "    \n",
    "square = Square(5)\n",
    "for s in square:\n",
    "    print(s)"
   ]
  },
  {
   "cell_type": "markdown",
   "metadata": {},
   "source": [
    "Generator"
   ]
  },
  {
   "cell_type": "code",
   "execution_count": null,
   "metadata": {},
   "outputs": [],
   "source": [
    "def squares(length):\n",
    "    for n in range(length):\n",
    "        yield n ** 2\n",
    "        \n",
    "for square in squares(6):\n",
    "    print(square)"
   ]
  },
  {
   "cell_type": "markdown",
   "metadata": {},
   "source": [
    "2.Create decorators \n",
    "- Without parameters in decorator\n"
   ]
  },
  {
   "cell_type": "code",
   "execution_count": null,
   "metadata": {},
   "outputs": [],
   "source": [
    "def new(func):\n",
    "    def innerFunc():\n",
    "        print(\"Inside Function.\")\n",
    "        func()\n",
    "    return innerFunc\n",
    "\n",
    "@new\n",
    "def myfunc():\n",
    "    print(\"Hello, World!\")\n",
    "\n",
    "myfunc()"
   ]
  },
  {
   "cell_type": "markdown",
   "metadata": {},
   "source": [
    "- Passing parameters in decorator"
   ]
  },
  {
   "cell_type": "code",
   "execution_count": null,
   "metadata": {},
   "outputs": [],
   "source": [
    "def smart_divide(func):\n",
    "    def inner(a, b):\n",
    "        print(\"It is divisible.\")\n",
    "        if b == 0:\n",
    "            print(\"Indeterminate form.\")\n",
    "            return\n",
    "\n",
    "        return func(a, b)\n",
    "    return inner\n",
    "\n",
    "\n",
    "@smart_divide\n",
    "def divide(a, b):\n",
    "    print(a/b)\n",
    "\n",
    "divide(9, 6)"
   ]
  },
  {
   "cell_type": "markdown",
   "metadata": {},
   "source": [
    "3. Create a scenario where following errors are handled:\n",
    "- Custom Error implemented using class"
   ]
  },
  {
   "cell_type": "code",
   "execution_count": null,
   "metadata": {},
   "outputs": [],
   "source": [
    "class Here_Exception(Exception):\n",
    "    def __init__(self, message):\n",
    "        super().__init__(message)\n",
    "        \n",
    "\n",
    "message = \"Something went wrong.\"\n",
    "\n",
    "def newException(num):\n",
    "    if (num == 0):\n",
    "        raise Here_Exception(message)\n",
    "    else:\n",
    "        print(num)\n",
    "\n",
    "\n",
    "try:\n",
    "    newException(0)\n",
    "    print(\"Successful execution.\")\n",
    "except Here_Exception:\n",
    "    print(\"Number should not be 0.\")"
   ]
  },
  {
   "cell_type": "markdown",
   "metadata": {},
   "source": [
    "- Custom Error using Exception or BaseException class using message to handle at least two of the cases."
   ]
  },
  {
   "cell_type": "code",
   "execution_count": null,
   "metadata": {},
   "outputs": [],
   "source": [
    "class HereException(Exception):\n",
    "    def __init__(self, message):\n",
    "        super().__init__(message)\n",
    "        \n",
    "class BaseException(Exception):\n",
    "    def __init__(self, message, value):\n",
    "        message = f'{value} is not a number'\n",
    "        super().__init__(message)\n",
    "        \n",
    "message = \"Exception occured.\"\n",
    "\n",
    "def newException(num):\n",
    "    if (not num.isdigit()):\n",
    "        raise BaseException(message, num)\n",
    "    elif (num == 0):\n",
    "        raise BaseException(message)\n",
    "    else:\n",
    "        print(num)\n",
    "\n",
    "num = \"Sample\"\n",
    "\n",
    "try:\n",
    "    newException(num)\n",
    "    print(\"Successful execution.\")\n",
    "except HereException:\n",
    "    print(\"Number should not be 0.\")\n",
    "except BaseException:\n",
    "    print(\"It is not a number.\")"
   ]
  },
  {
   "cell_type": "markdown",
   "metadata": {},
   "source": [
    "- Full fledged case for exception handling using try, except, else, finally"
   ]
  },
  {
   "cell_type": "code",
   "execution_count": null,
   "metadata": {},
   "outputs": [],
   "source": [
    "class Program(Exception):\n",
    "    def __init__(self, msg=''):\n",
    "        super().__init__(msg)\n",
    "        pass\n",
    "    \n",
    "try:\n",
    "    print(5 / 0)\n",
    "except ZeroDivisionError:\n",
    "    print(\"Indeterminate form.\")\n",
    "else:\n",
    "    print(\"No error occured.\")\n",
    "finally:\n",
    "    print(\"Function executed\")"
   ]
  },
  {
   "cell_type": "markdown",
   "metadata": {},
   "source": [
    "4. Create at least 4 classes having semantic meaning (having relation to each other) so that multiple inheritance can be achieved and incorporating following things in some of them:\n",
    "- @classmethod \n",
    "- @staticmethod\n",
    "- @property and setter for it\n",
    "- Dunder methods __str__ and more…\n",
    "- Class_variable"
   ]
  },
  {
   "cell_type": "code",
   "execution_count": null,
   "metadata": {},
   "outputs": [],
   "source": []
  }
 ],
 "metadata": {
  "kernelspec": {
   "display_name": "Python 3",
   "language": "python",
   "name": "python3"
  },
  "language_info": {
   "codemirror_mode": {
    "name": "ipython",
    "version": 3
   },
   "file_extension": ".py",
   "mimetype": "text/x-python",
   "name": "python",
   "nbconvert_exporter": "python",
   "pygments_lexer": "ipython3",
   "version": "3.8.5"
  }
 },
 "nbformat": 4,
 "nbformat_minor": 4
}
