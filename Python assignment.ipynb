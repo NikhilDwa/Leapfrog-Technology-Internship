{
 "cells": [
  {
   "cell_type": "markdown",
   "metadata": {},
   "source": [
    "# Question 3: \n",
    "\n",
    "A bracket is considered to be any one of the following characters: \n",
    "**(, ), {, }, [, or ].**\n",
    "\n",
    "Two brackets are considered to be a matched pair if the opening bracket (i.e., (, [, or {) occurs to the left of a closing bracket (i.e., ), ], or }) of the exact same type. There are three types of matched pairs of brackets: **[], {},** and **()**.\n",
    "\n",
    "A matching pair of brackets is not balanced if the set of brackets it encloses are not matched. For example, **{[(])}** is not balanced because the contents in between **{** and **}** are not balanced. The pair of square brackets encloses a single, unbalanced opening bracket, **(**, and the pair of parentheses encloses a single, unbalanced closing square bracket, **]**.\n",
    "\n",
    "By this logic, we say a sequence of brackets is balanced if the following conditions are met:\n",
    "- It contains no unmatched brackets.\n",
    "- The subset of brackets enclosed within the confines of a matched pair of brackets is also a matched pair of brackets.\n",
    "\n",
    "Given a string of brackets as input, determine whether each sequence of brackets is balanced. If a string is balanced, return YES. Otherwise, return NO.\n",
    "\n",
    "**Program Description:**\n",
    "\n",
    "Complete program with the function **isBalanced**.\n",
    "\n",
    "**isBalanced** has the following parameter(s):\n",
    "- string s: a string of brackets [  take it as an input argument from the user from CLI ]\n",
    "\n",
    "**Returns**\n",
    "- string: either YES or NO\n",
    "\n",
    "Example Input: \n",
    "**“{}[]()[(())]” returns YES\n",
    "\"{}(]{\" return NO**\n"
   ]
  },
  {
   "cell_type": "code",
   "execution_count": 1,
   "metadata": {},
   "outputs": [
    {
     "name": "stdout",
     "output_type": "stream",
     "text": [
      "Enter the sequence of brackets.{}[(())]\n",
      "YES\n"
     ]
    }
   ],
   "source": [
    "def isBalanced(b):\n",
    "    lst = []\n",
    "    for n in b:\n",
    "        if n == '{' or n == '(' or n == '[':\n",
    "            lst.append(n)\n",
    "        elif n == '}' or n == ')' or n == ']':\n",
    "            if len(lst) == 0:\n",
    "                return \"NO\"\n",
    "            top = lst.pop()     \n",
    "    if len(lst) != 0:\n",
    "        return \"NO\"           \n",
    "    return \"YES\"\n",
    "\n",
    "i = input(\"Enter the sequence of brackets.\")\n",
    "print(isBalanced(i))\n"
   ]
  },
  {
   "cell_type": "markdown",
   "metadata": {},
   "source": [
    "# Question 4\n",
    "\n",
    "A left rotation operation on an integer array shifts each of the array's elements unit to the left. For example, if **2** left rotations are performed on array **[1,2,3,4,5]** , then the array would become **[3,4,5,1,2]**\n",
    "\n",
    "Note that the lowest index item moves to the highest index in a rotation. This is called a circular array.\n",
    "\n",
    "Given an array of integers and a number designating the number of rotations, perform left rotations on the array. Return the updated array to be printed as a single line of space-separated integers.\n",
    "\n",
    "**Program Description**\n",
    "\n",
    "Write a Program i.e. a python script  with the function named **rotateLeft** in the\n",
    "\n",
    "**rotateLeft** has the following parameter(s):\n",
    "- array_list  a list  of integers to rotate\n",
    "- num_rotate the number of rotations to be made\n",
    "\n",
    "Receive these parameters from the command line as input from the user.\n",
    "\n",
    "**Returns**\n",
    "- the rotated array and the number of left rotations.\n"
   ]
  },
  {
   "cell_type": "code",
   "execution_count": null,
   "metadata": {},
   "outputs": [],
   "source": [
    "def rotateLeft(array_list, num_rotate):\n",
    "    final_list = array_list\n",
    "    for c in range(0, num_rotate):\n",
    "        temp = final_list[0]\n",
    "        for i in range(0, len(final_list) - 1):\n",
    "            final_list[i] = final_list [i + 1]\n",
    "        final_list[len(final_list) - 1] = temp\n",
    "    return final_list\n",
    "\n",
    "input_list = input(\"Enter a list element separated by space.\")\n",
    "input_list  = input_list.split()\n",
    "array_list = [int(i) for i in input_list]\n",
    "num_rotate = int(input(\"Enter the number of rotations to be made.\"))\n",
    "\n",
    "print(rotateLeft(array_list, num_rotate))"
   ]
  },
  {
   "cell_type": "code",
   "execution_count": null,
   "metadata": {},
   "outputs": [],
   "source": []
  }
 ],
 "metadata": {
  "kernelspec": {
   "display_name": "Python 3",
   "language": "python",
   "name": "python3"
  },
  "language_info": {
   "codemirror_mode": {
    "name": "ipython",
    "version": 3
   },
   "file_extension": ".py",
   "mimetype": "text/x-python",
   "name": "python",
   "nbconvert_exporter": "python",
   "pygments_lexer": "ipython3",
   "version": "3.8.5"
  }
 },
 "nbformat": 4,
 "nbformat_minor": 4
}
